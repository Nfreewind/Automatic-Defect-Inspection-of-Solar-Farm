{
 "cells": [
  {
   "cell_type": "code",
   "execution_count": 28,
   "metadata": {},
   "outputs": [
    {
     "name": "stdout",
     "output_type": "stream",
     "text": [
      "Found 280 images belonging to 2 classes.\n",
      "Found 6 images belonging to 2 classes.\n"
     ]
    }
   ],
   "source": [
    "## Input Data Read\n",
    "from keras.preprocessing.image import ImageDataGenerator\n",
    "datagen=ImageDataGenerator()\n",
    "train_generator = datagen.flow_from_directory(\n",
    "        'Dataset/train',\n",
    "        batch_size=32,\n",
    "        target_size=(224,224))\n",
    "test_generator = datagen.flow_from_directory(\n",
    "        'Dataset/test',\n",
    "        batch_size=32,\n",
    "        target_size=(224,224))"
   ]
  },
  {
   "cell_type": "code",
   "execution_count": 32,
   "metadata": {},
   "outputs": [],
   "source": [
    "## Load pretrained model\n",
    "import h5py as h5py\n",
    "from keras.applications.resnet50 import ResNet50\n",
    "from keras.layers import Dense, GlobalAveragePooling2D\n",
    "from keras.models import Model\n",
    "\n",
    "# create the base pre-trained model\n",
    "base_model=ResNet50(weights='imagenet',include_top=False,input_shape=(224,224,3))"
   ]
  },
  {
   "cell_type": "code",
   "execution_count": 33,
   "metadata": {},
   "outputs": [
    {
     "name": "stdout",
     "output_type": "stream",
     "text": [
      "Epoch 1/50\n",
      "9/9 [==============================] - 177s 20s/step - loss: 1.4047 - acc: 0.5902\n",
      "Epoch 2/50\n",
      "9/9 [==============================] - 177s 20s/step - loss: 0.7446 - acc: 0.5954\n",
      "Epoch 3/50\n",
      "9/9 [==============================] - 180s 20s/step - loss: 0.6995 - acc: 0.5930\n",
      "Epoch 4/50\n",
      "9/9 [==============================] - 171s 19s/step - loss: 1.0928 - acc: 0.6710\n",
      "Epoch 5/50\n",
      "9/9 [==============================] - 172s 19s/step - loss: 0.7472 - acc: 0.6229\n",
      "Epoch 6/50\n",
      "9/9 [==============================] - 176s 20s/step - loss: 0.5193 - acc: 0.7093\n",
      "Epoch 7/50\n",
      "9/9 [==============================] - 181s 20s/step - loss: 0.5399 - acc: 0.7765\n",
      "Epoch 8/50\n",
      "9/9 [==============================] - 174s 19s/step - loss: 0.7086 - acc: 0.8054\n",
      "Epoch 9/50\n",
      "9/9 [==============================] - 172s 19s/step - loss: 0.6245 - acc: 0.7859\n",
      "Epoch 10/50\n",
      "9/9 [==============================] - 172s 19s/step - loss: 0.4434 - acc: 0.8412\n",
      "Epoch 11/50\n",
      "9/9 [==============================] - 173s 19s/step - loss: 0.3618 - acc: 0.8590\n",
      "Epoch 12/50\n",
      "9/9 [==============================] - 178s 20s/step - loss: 0.3502 - acc: 0.8496\n",
      "Epoch 13/50\n",
      "9/9 [==============================] - 170s 19s/step - loss: 0.3748 - acc: 0.8677\n",
      "Epoch 14/50\n",
      "9/9 [==============================] - 174s 19s/step - loss: 0.1894 - acc: 0.9377\n",
      "Epoch 15/50\n",
      "9/9 [==============================] - 172s 19s/step - loss: 0.2356 - acc: 0.9304\n",
      "Epoch 16/50\n",
      "9/9 [==============================] - 172s 19s/step - loss: 0.4317 - acc: 0.8830\n",
      "Epoch 17/50\n",
      "9/9 [==============================] - 173s 19s/step - loss: 0.1511 - acc: 0.9366\n",
      "Epoch 18/50\n",
      "9/9 [==============================] - 174s 19s/step - loss: 0.4614 - acc: 0.8607\n",
      "Epoch 19/50\n",
      "9/9 [==============================] - 172s 19s/step - loss: 0.2514 - acc: 0.9025\n",
      "Epoch 20/50\n",
      "9/9 [==============================] - 174s 19s/step - loss: 0.0842 - acc: 0.9756\n",
      "Epoch 21/50\n",
      "9/9 [==============================] - 172s 19s/step - loss: 0.5362 - acc: 0.8781\n",
      "Epoch 22/50\n",
      "9/9 [==============================] - 176s 20s/step - loss: 0.3162 - acc: 0.8910\n",
      "Epoch 23/50\n",
      "9/9 [==============================] - 174s 19s/step - loss: 0.0777 - acc: 0.9826\n",
      "Epoch 24/50\n",
      "9/9 [==============================] - 170s 19s/step - loss: 0.2294 - acc: 0.9004\n",
      "Epoch 25/50\n",
      "9/9 [==============================] - 171s 19s/step - loss: 0.0269 - acc: 0.9965\n",
      "Epoch 26/50\n",
      "9/9 [==============================] - 171s 19s/step - loss: 0.0050 - acc: 1.0000\n",
      "Epoch 27/50\n",
      "9/9 [==============================] - 166s 18s/step - loss: 0.8444 - acc: 0.9164\n",
      "Epoch 28/50\n",
      "9/9 [==============================] - 168s 19s/step - loss: 0.0952 - acc: 0.9551\n",
      "Epoch 29/50\n",
      "9/9 [==============================] - 173s 19s/step - loss: 0.0202 - acc: 0.9965\n",
      "Epoch 30/50\n",
      "9/9 [==============================] - 177s 20s/step - loss: 0.0031 - acc: 1.0000\n",
      "Epoch 31/50\n",
      "9/9 [==============================] - 169s 19s/step - loss: 0.6931 - acc: 0.9088\n",
      "Epoch 32/50\n",
      "9/9 [==============================] - 169s 19s/step - loss: 0.0225 - acc: 0.9930\n",
      "Epoch 33/50\n",
      "9/9 [==============================] - 179s 20s/step - loss: 0.0043 - acc: 1.0000\n",
      "Epoch 34/50\n",
      "9/9 [==============================] - 181s 20s/step - loss: 0.4276 - acc: 0.9060\n",
      "Epoch 35/50\n",
      "9/9 [==============================] - 176s 20s/step - loss: 0.0955 - acc: 0.9676\n",
      "Epoch 36/50\n",
      "9/9 [==============================] - 171s 19s/step - loss: 0.1033 - acc: 0.9641\n",
      "Epoch 37/50\n",
      "9/9 [==============================] - 172s 19s/step - loss: 0.0241 - acc: 0.9896\n",
      "Epoch 38/50\n",
      "9/9 [==============================] - 179s 20s/step - loss: 0.0361 - acc: 0.9850\n",
      "Epoch 39/50\n",
      "9/9 [==============================] - 178s 20s/step - loss: 0.1752 - acc: 0.9645\n",
      "Epoch 40/50\n",
      "9/9 [==============================] - 170s 19s/step - loss: 0.0355 - acc: 0.9930\n",
      "Epoch 41/50\n",
      "9/9 [==============================] - 167s 19s/step - loss: 0.0058 - acc: 1.0000\n",
      "Epoch 42/50\n",
      "9/9 [==============================] - 167s 19s/step - loss: 0.4564 - acc: 0.9074\n",
      "Epoch 43/50\n",
      "9/9 [==============================] - 172s 19s/step - loss: 0.0070 - acc: 1.0000\n",
      "Epoch 44/50\n",
      "9/9 [==============================] - 171s 19s/step - loss: 0.0057 - acc: 0.9965\n",
      "Epoch 45/50\n",
      "9/9 [==============================] - 174s 19s/step - loss: 0.0026 - acc: 1.0000\n",
      "Epoch 46/50\n",
      "9/9 [==============================] - 171s 19s/step - loss: 0.2394 - acc: 0.9408\n",
      "Epoch 47/50\n",
      "9/9 [==============================] - 169s 19s/step - loss: 0.0111 - acc: 1.0000\n",
      "Epoch 48/50\n",
      "9/9 [==============================] - 178s 20s/step - loss: 0.0154 - acc: 0.9965\n",
      "Epoch 49/50\n",
      "9/9 [==============================] - 173s 19s/step - loss: 0.0303 - acc: 0.9930\n",
      "Epoch 50/50\n",
      "9/9 [==============================] - 169s 19s/step - loss: 0.1625 - acc: 0.9408\n"
     ]
    },
    {
     "data": {
      "text/plain": [
       "<keras.callbacks.History at 0xc3092b38>"
      ]
     },
     "execution_count": 33,
     "metadata": {},
     "output_type": "execute_result"
    }
   ],
   "source": [
    "import os\n",
    "import numpy as np\n",
    "import random as rn\n",
    "import tensorflow as tf\n",
    "from keras import backend as K\n",
    "## To Obtain Reproducible result\n",
    "os.environ['PYTHONHASHSEED'] = '0'\n",
    "np.random.seed(42)\n",
    "rn.seed(12345)\n",
    "session_conf = tf.ConfigProto(intra_op_parallelism_threads=1, inter_op_parallelism_threads=1)\n",
    "tf.set_random_seed(1234)\n",
    "sess = tf.Session(graph=tf.get_default_graph(), config=session_conf)\n",
    "K.set_session(sess)\n",
    "\n",
    "# add a global spatial average pooling layer\n",
    "x = base_model.output\n",
    "x = GlobalAveragePooling2D()(x)\n",
    "\n",
    "# let's add a fully-connected layer\n",
    "x = Dense(1024, activation='relu')(x)\n",
    "x = Dense(256, activation='relu')(x)\n",
    "x = Dense(16, activation='relu')(x)\n",
    "\n",
    "# and a logistic layer -- let's say we have 2 classes\n",
    "predictions = Dense(2, activation='softmax')(x)\n",
    "\n",
    "# this is the model we will train\n",
    "model = Model(inputs=base_model.input, outputs=predictions)\n",
    "\n",
    "# first: train only the top layers (which were randomly initialized)\n",
    "# i.e. freeze all convolutional ResNet50 layers\n",
    "for layer in base_model.layers:\n",
    "    layer.trainable = False\n",
    "    \n",
    "# compile the model (should be done *after* setting layers to non-trainable)\n",
    "model.compile(optimizer='rmsprop', loss='categorical_crossentropy',metrics=['accuracy'])\n",
    "\n",
    "# train the model on the new data for a few epochs\n",
    "model.fit_generator(train_generator,epochs=25,validation_data=test_generator)"
   ]
  },
  {
   "cell_type": "code",
   "execution_count": 35,
   "metadata": {},
   "outputs": [
    {
     "data": {
      "text/plain": [
       "array([[9.1217136e-01, 8.7828636e-02],\n",
       "       [1.0000000e+00, 3.7171462e-18],\n",
       "       [1.0000000e+00, 2.0504323e-25],\n",
       "       [9.9985135e-01, 1.4866800e-04],\n",
       "       [9.9755692e-01, 2.4430149e-03],\n",
       "       [1.0000000e+00, 1.2180239e-18]], dtype=float32)"
      ]
     },
     "execution_count": 35,
     "metadata": {},
     "output_type": "execute_result"
    }
   ],
   "source": [
    "## Evaluate model\n",
    "model.save('my_model.h5') \n",
    "model.predict_generator(test_generator)"
   ]
  },
  {
   "cell_type": "code",
   "execution_count": null,
   "metadata": {},
   "outputs": [],
   "source": []
  }
 ],
 "metadata": {
  "kernelspec": {
   "display_name": "Python 3",
   "language": "python",
   "name": "python3"
  },
  "language_info": {
   "codemirror_mode": {
    "name": "ipython",
    "version": 3
   },
   "file_extension": ".py",
   "mimetype": "text/x-python",
   "name": "python",
   "nbconvert_exporter": "python",
   "pygments_lexer": "ipython3",
   "version": "3.6.3"
  }
 },
 "nbformat": 4,
 "nbformat_minor": 2
}
